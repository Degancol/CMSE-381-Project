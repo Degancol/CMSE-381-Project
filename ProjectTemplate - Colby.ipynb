{
 "cells": [
  {
   "cell_type": "markdown",
   "metadata": {},
   "source": [
    "# CMSE 381 Final Project Template"
   ]
  },
  {
   "cell_type": "markdown",
   "metadata": {},
   "source": [
    "**INSTRUCTIONS**: This is a template to help organize your project.  All projects should include the 5 major sections below (you do not need to use this template file).  If you use this file, complete your work below and remove content in parentheses. Also, remove this current cell.  "
   ]
  },
  {
   "cell_type": "markdown",
   "metadata": {},
   "source": [
    "#### CMSE 381 Final Project\n",
    "### &#9989; Group members: Colby Degan, Jose Villegas\n",
    "### &#9989; Section_002\n",
    "#### &#9989; 4/25/2025"
   ]
  },
  {
   "cell_type": "markdown",
   "metadata": {},
   "source": [
    "# Concrete Crack Detection using SVCs and CNNs"
   ]
  },
  {
   "cell_type": "markdown",
   "metadata": {},
   "source": [
    "## Background and Motivation"
   ]
  },
  {
   "cell_type": "markdown",
   "metadata": {},
   "source": [
    "_(Provide context for the problem.  **Clearly state the question(s) you set\n",
    "out to answer.**)_"
   ]
  },
  {
   "cell_type": "markdown",
   "metadata": {},
   "source": [
    "We wanted to create a model that could accurately notice small differences in images and correctly classify them based on that decision. To do this we decided to use images of concrete, some of which have cracks, to make a model that could achieve this goal."
   ]
  },
  {
   "cell_type": "markdown",
   "metadata": {},
   "source": [
    "## Methodology\n",
    "_(How did you go about answering your question(s)? You should wrote some code here to demonstrate what the data is like and how in principle your method works. You can leave the variations of the related to specific results to the results section.)_"
   ]
  },
  {
   "cell_type": "code",
   "execution_count": 1,
   "metadata": {},
   "outputs": [],
   "source": [
    "# you may want to import some modules here\n",
    "import matplotlib as mpl\n",
    "import matplotlib.image as img\n",
    "import matplotlib.pyplot as plt\n",
    "%matplotlib inline\n",
    "import numpy as np\n",
    "import operator\n",
    "import os\n",
    "import pandas as pd\n",
    "import PIL as pillow\n",
    "import random\n",
    "import seaborn as sns\n",
    "import sklearn\n",
    "import sqlite3\n",
    "import statsmodels.api as sm\n",
    "import statsmodels.formula.api as smf\n",
    "import sys\n",
    "import time\n",
    "import urllib.request\n",
    "import warnings \n",
    "warnings.filterwarnings('ignore')\n",
    "\n",
    "from IPython import display\n",
    "from IPython.display import clear_output, display, set_matplotlib_formats\n",
    "from itertools import combinations\n",
    "from matplotlib.colors import ListedColormap\n",
    "from PIL import Image\n",
    "from random import choice\n",
    "from sklearn import datasets, decomposition, linear_model, metrics, model_selection, neighbors, pipeline, preprocessing, svm, tree, utils\n",
    "from sklearn.decomposition import PCA\n",
    "from sklearn.ensemble import RandomForestClassifier, RandomForestRegressor\n",
    "from sklearn.linear_model import LinearRegression, Lasso, LassoCV, LogisticRegression, Perceptron, Ridge, RidgeCV, SGDRegressor\n",
    "from sklearn.metrics import accuracy_score, confusion_matrix, ConfusionMatrixDisplay, mean_squared_error\n",
    "from sklearn.model_selection import cross_val_score, KFold, LeaveOneOut, train_test_split\n",
    "from sklearn.neighbors import KNeighborsClassifier\n",
    "from sklearn.pipeline import make_pipeline, Pipeline\n",
    "from sklearn.preprocessing import PolynomialFeatures, scale, SplineTransformer, StandardScaler\n",
    "from sklearn.svm import LinearSVC, LinearSVR, SVC, SVR\n",
    "from sklearn.tree import DecisionTreeClassifier, DecisionTreeRegressor\n",
    "from sklearn.utils import shuffle"
   ]
  },
  {
   "cell_type": "markdown",
   "metadata": {
    "vscode": {
     "languageId": "plaintext"
    }
   },
   "source": [
    "### Data\n",
    "_(Describe the data you are using. What variables are you using? What they mean? Why did you choose them?)_"
   ]
  },
  {
   "cell_type": "markdown",
   "metadata": {},
   "source": [
    "We are compressing each 256x256 image into 64x64, and are using each pixel measurement of that compressed image as a variable, giving us 4096 pixel measurements. We are also using the type of structure as a variable, as it wouldn't be logical to compare a picture of cracked pavement to a picture of an un-cracked wall."
   ]
  },
  {
   "cell_type": "code",
   "execution_count": null,
   "metadata": {},
   "outputs": [],
   "source": [
    "# you may need some code here to adjust the format or organization of your data so that they can be used for the model"
   ]
  },
  {
   "cell_type": "code",
   "execution_count": null,
   "metadata": {},
   "outputs": [],
   "source": [
    "# you may want to write some code to see what the data looks like"
   ]
  },
  {
   "cell_type": "code",
   "execution_count": 2,
   "metadata": {},
   "outputs": [],
   "source": [
    "folder_paths = [\"archive/Decks/Cracked\", \"archive/Decks/Non-cracked\", \"archive/Pavements/Cracked\", \"archive/Pavements/Non-cracked\", \"archive/Walls/Cracked\", \"archive/Walls/Non-cracked\"]\n",
    "image_data = []\n",
    "cracked = []\n",
    "structure = []\n",
    "\n",
    "# For every folder that contains images\n",
    "for folder_path in folder_paths:\n",
    "    \n",
    "    # Get list of image files\n",
    "    image_files = [f for f in os.listdir(folder_path) if f.endswith('.jpg')]\n",
    "\n",
    "    # Initialize list to store image data\n",
    "    for i in range(len(image_files)):\n",
    "        img_path = os.path.join(folder_path, image_files[i])\n",
    "        img = Image.open(img_path).convert('L')\n",
    "        img.thumbnail((64, 64), Image.Resampling.LANCZOS)\n",
    "        img_array = np.array(img).flatten()\n",
    "        image_data.append(img_array)\n",
    "        if folder_path == \"archive/Decks/Cracked\" or folder_path == \"archive/Decks/Non-cracked\":\n",
    "            structure.append(\"Deck\")\n",
    "        elif folder_path == \"archive/Pavements/Cracked\" or folder_path == \"archive/Pavements/Non-cracked\":\n",
    "            structure.append(\"Pavement\")\n",
    "        else:\n",
    "            structure.append(\"Wall\")\n",
    "        if folder_path == \"archive/Decks/Cracked\" or folder_path == \"archive/Pavements/Cracked\" or folder_path == \"archive/Walls/Cracked\":\n",
    "            cracked.append(1)\n",
    "        else:\n",
    "            cracked.append(0)\n",
    "              \n",
    "                \n",
    "df = pd.DataFrame(image_data)\n",
    "df[\"Structure\"] = structure\n",
    "df[\"Cracked\"] = cracked\n",
    "df.to_csv(\"concrete_dataset.csv\", index=False)"
   ]
  },
  {
   "cell_type": "code",
   "execution_count": 3,
   "metadata": {},
   "outputs": [],
   "source": [
    "concrete_dataset = pd.read_csv('concrete_dataset.csv')"
   ]
  },
  {
   "cell_type": "code",
   "execution_count": 4,
   "metadata": {},
   "outputs": [
    {
     "data": {
      "text/html": [
       "<div>\n",
       "<style scoped>\n",
       "    .dataframe tbody tr th:only-of-type {\n",
       "        vertical-align: middle;\n",
       "    }\n",
       "\n",
       "    .dataframe tbody tr th {\n",
       "        vertical-align: top;\n",
       "    }\n",
       "\n",
       "    .dataframe thead th {\n",
       "        text-align: right;\n",
       "    }\n",
       "</style>\n",
       "<table border=\"1\" class=\"dataframe\">\n",
       "  <thead>\n",
       "    <tr style=\"text-align: right;\">\n",
       "      <th></th>\n",
       "      <th>0</th>\n",
       "      <th>1</th>\n",
       "      <th>2</th>\n",
       "      <th>3</th>\n",
       "      <th>4</th>\n",
       "      <th>5</th>\n",
       "      <th>6</th>\n",
       "      <th>7</th>\n",
       "      <th>8</th>\n",
       "      <th>9</th>\n",
       "      <th>...</th>\n",
       "      <th>4088</th>\n",
       "      <th>4089</th>\n",
       "      <th>4090</th>\n",
       "      <th>4091</th>\n",
       "      <th>4092</th>\n",
       "      <th>4093</th>\n",
       "      <th>4094</th>\n",
       "      <th>4095</th>\n",
       "      <th>Structure</th>\n",
       "      <th>Cracked</th>\n",
       "    </tr>\n",
       "  </thead>\n",
       "  <tbody>\n",
       "    <tr>\n",
       "      <th>0</th>\n",
       "      <td>185</td>\n",
       "      <td>185</td>\n",
       "      <td>158</td>\n",
       "      <td>182</td>\n",
       "      <td>182</td>\n",
       "      <td>169</td>\n",
       "      <td>160</td>\n",
       "      <td>175</td>\n",
       "      <td>169</td>\n",
       "      <td>175</td>\n",
       "      <td>...</td>\n",
       "      <td>182</td>\n",
       "      <td>182</td>\n",
       "      <td>183</td>\n",
       "      <td>185</td>\n",
       "      <td>186</td>\n",
       "      <td>182</td>\n",
       "      <td>172</td>\n",
       "      <td>180</td>\n",
       "      <td>Deck</td>\n",
       "      <td>1</td>\n",
       "    </tr>\n",
       "    <tr>\n",
       "      <th>1</th>\n",
       "      <td>178</td>\n",
       "      <td>182</td>\n",
       "      <td>171</td>\n",
       "      <td>183</td>\n",
       "      <td>181</td>\n",
       "      <td>179</td>\n",
       "      <td>183</td>\n",
       "      <td>173</td>\n",
       "      <td>178</td>\n",
       "      <td>176</td>\n",
       "      <td>...</td>\n",
       "      <td>172</td>\n",
       "      <td>186</td>\n",
       "      <td>197</td>\n",
       "      <td>185</td>\n",
       "      <td>173</td>\n",
       "      <td>179</td>\n",
       "      <td>179</td>\n",
       "      <td>183</td>\n",
       "      <td>Deck</td>\n",
       "      <td>1</td>\n",
       "    </tr>\n",
       "    <tr>\n",
       "      <th>2</th>\n",
       "      <td>181</td>\n",
       "      <td>184</td>\n",
       "      <td>190</td>\n",
       "      <td>187</td>\n",
       "      <td>186</td>\n",
       "      <td>190</td>\n",
       "      <td>190</td>\n",
       "      <td>184</td>\n",
       "      <td>186</td>\n",
       "      <td>184</td>\n",
       "      <td>...</td>\n",
       "      <td>191</td>\n",
       "      <td>186</td>\n",
       "      <td>184</td>\n",
       "      <td>181</td>\n",
       "      <td>186</td>\n",
       "      <td>189</td>\n",
       "      <td>181</td>\n",
       "      <td>184</td>\n",
       "      <td>Deck</td>\n",
       "      <td>1</td>\n",
       "    </tr>\n",
       "    <tr>\n",
       "      <th>3</th>\n",
       "      <td>191</td>\n",
       "      <td>201</td>\n",
       "      <td>202</td>\n",
       "      <td>192</td>\n",
       "      <td>194</td>\n",
       "      <td>188</td>\n",
       "      <td>191</td>\n",
       "      <td>190</td>\n",
       "      <td>181</td>\n",
       "      <td>171</td>\n",
       "      <td>...</td>\n",
       "      <td>181</td>\n",
       "      <td>179</td>\n",
       "      <td>177</td>\n",
       "      <td>178</td>\n",
       "      <td>174</td>\n",
       "      <td>177</td>\n",
       "      <td>182</td>\n",
       "      <td>179</td>\n",
       "      <td>Deck</td>\n",
       "      <td>1</td>\n",
       "    </tr>\n",
       "    <tr>\n",
       "      <th>4</th>\n",
       "      <td>180</td>\n",
       "      <td>172</td>\n",
       "      <td>179</td>\n",
       "      <td>171</td>\n",
       "      <td>185</td>\n",
       "      <td>178</td>\n",
       "      <td>177</td>\n",
       "      <td>183</td>\n",
       "      <td>185</td>\n",
       "      <td>183</td>\n",
       "      <td>...</td>\n",
       "      <td>176</td>\n",
       "      <td>177</td>\n",
       "      <td>179</td>\n",
       "      <td>179</td>\n",
       "      <td>180</td>\n",
       "      <td>183</td>\n",
       "      <td>177</td>\n",
       "      <td>175</td>\n",
       "      <td>Deck</td>\n",
       "      <td>1</td>\n",
       "    </tr>\n",
       "    <tr>\n",
       "      <th>...</th>\n",
       "      <td>...</td>\n",
       "      <td>...</td>\n",
       "      <td>...</td>\n",
       "      <td>...</td>\n",
       "      <td>...</td>\n",
       "      <td>...</td>\n",
       "      <td>...</td>\n",
       "      <td>...</td>\n",
       "      <td>...</td>\n",
       "      <td>...</td>\n",
       "      <td>...</td>\n",
       "      <td>...</td>\n",
       "      <td>...</td>\n",
       "      <td>...</td>\n",
       "      <td>...</td>\n",
       "      <td>...</td>\n",
       "      <td>...</td>\n",
       "      <td>...</td>\n",
       "      <td>...</td>\n",
       "      <td>...</td>\n",
       "      <td>...</td>\n",
       "    </tr>\n",
       "    <tr>\n",
       "      <th>56087</th>\n",
       "      <td>144</td>\n",
       "      <td>141</td>\n",
       "      <td>146</td>\n",
       "      <td>145</td>\n",
       "      <td>141</td>\n",
       "      <td>147</td>\n",
       "      <td>149</td>\n",
       "      <td>151</td>\n",
       "      <td>150</td>\n",
       "      <td>147</td>\n",
       "      <td>...</td>\n",
       "      <td>144</td>\n",
       "      <td>146</td>\n",
       "      <td>147</td>\n",
       "      <td>147</td>\n",
       "      <td>148</td>\n",
       "      <td>143</td>\n",
       "      <td>144</td>\n",
       "      <td>150</td>\n",
       "      <td>Wall</td>\n",
       "      <td>0</td>\n",
       "    </tr>\n",
       "    <tr>\n",
       "      <th>56088</th>\n",
       "      <td>176</td>\n",
       "      <td>177</td>\n",
       "      <td>177</td>\n",
       "      <td>178</td>\n",
       "      <td>178</td>\n",
       "      <td>180</td>\n",
       "      <td>180</td>\n",
       "      <td>180</td>\n",
       "      <td>180</td>\n",
       "      <td>180</td>\n",
       "      <td>...</td>\n",
       "      <td>175</td>\n",
       "      <td>176</td>\n",
       "      <td>176</td>\n",
       "      <td>177</td>\n",
       "      <td>178</td>\n",
       "      <td>175</td>\n",
       "      <td>176</td>\n",
       "      <td>175</td>\n",
       "      <td>Wall</td>\n",
       "      <td>0</td>\n",
       "    </tr>\n",
       "    <tr>\n",
       "      <th>56089</th>\n",
       "      <td>159</td>\n",
       "      <td>162</td>\n",
       "      <td>168</td>\n",
       "      <td>159</td>\n",
       "      <td>154</td>\n",
       "      <td>169</td>\n",
       "      <td>169</td>\n",
       "      <td>160</td>\n",
       "      <td>159</td>\n",
       "      <td>155</td>\n",
       "      <td>...</td>\n",
       "      <td>170</td>\n",
       "      <td>172</td>\n",
       "      <td>162</td>\n",
       "      <td>154</td>\n",
       "      <td>151</td>\n",
       "      <td>160</td>\n",
       "      <td>160</td>\n",
       "      <td>146</td>\n",
       "      <td>Wall</td>\n",
       "      <td>0</td>\n",
       "    </tr>\n",
       "    <tr>\n",
       "      <th>56090</th>\n",
       "      <td>150</td>\n",
       "      <td>171</td>\n",
       "      <td>182</td>\n",
       "      <td>184</td>\n",
       "      <td>185</td>\n",
       "      <td>182</td>\n",
       "      <td>179</td>\n",
       "      <td>183</td>\n",
       "      <td>183</td>\n",
       "      <td>181</td>\n",
       "      <td>...</td>\n",
       "      <td>187</td>\n",
       "      <td>185</td>\n",
       "      <td>185</td>\n",
       "      <td>187</td>\n",
       "      <td>188</td>\n",
       "      <td>186</td>\n",
       "      <td>184</td>\n",
       "      <td>185</td>\n",
       "      <td>Wall</td>\n",
       "      <td>0</td>\n",
       "    </tr>\n",
       "    <tr>\n",
       "      <th>56091</th>\n",
       "      <td>158</td>\n",
       "      <td>157</td>\n",
       "      <td>158</td>\n",
       "      <td>163</td>\n",
       "      <td>158</td>\n",
       "      <td>154</td>\n",
       "      <td>159</td>\n",
       "      <td>157</td>\n",
       "      <td>156</td>\n",
       "      <td>157</td>\n",
       "      <td>...</td>\n",
       "      <td>139</td>\n",
       "      <td>141</td>\n",
       "      <td>163</td>\n",
       "      <td>153</td>\n",
       "      <td>158</td>\n",
       "      <td>170</td>\n",
       "      <td>140</td>\n",
       "      <td>140</td>\n",
       "      <td>Wall</td>\n",
       "      <td>0</td>\n",
       "    </tr>\n",
       "  </tbody>\n",
       "</table>\n",
       "<p>56092 rows × 4098 columns</p>\n",
       "</div>"
      ],
      "text/plain": [
       "         0    1    2    3    4    5    6    7    8    9  ...  4088  4089  \\\n",
       "0      185  185  158  182  182  169  160  175  169  175  ...   182   182   \n",
       "1      178  182  171  183  181  179  183  173  178  176  ...   172   186   \n",
       "2      181  184  190  187  186  190  190  184  186  184  ...   191   186   \n",
       "3      191  201  202  192  194  188  191  190  181  171  ...   181   179   \n",
       "4      180  172  179  171  185  178  177  183  185  183  ...   176   177   \n",
       "...    ...  ...  ...  ...  ...  ...  ...  ...  ...  ...  ...   ...   ...   \n",
       "56087  144  141  146  145  141  147  149  151  150  147  ...   144   146   \n",
       "56088  176  177  177  178  178  180  180  180  180  180  ...   175   176   \n",
       "56089  159  162  168  159  154  169  169  160  159  155  ...   170   172   \n",
       "56090  150  171  182  184  185  182  179  183  183  181  ...   187   185   \n",
       "56091  158  157  158  163  158  154  159  157  156  157  ...   139   141   \n",
       "\n",
       "       4090  4091  4092  4093  4094  4095  Structure  Cracked  \n",
       "0       183   185   186   182   172   180       Deck        1  \n",
       "1       197   185   173   179   179   183       Deck        1  \n",
       "2       184   181   186   189   181   184       Deck        1  \n",
       "3       177   178   174   177   182   179       Deck        1  \n",
       "4       179   179   180   183   177   175       Deck        1  \n",
       "...     ...   ...   ...   ...   ...   ...        ...      ...  \n",
       "56087   147   147   148   143   144   150       Wall        0  \n",
       "56088   176   177   178   175   176   175       Wall        0  \n",
       "56089   162   154   151   160   160   146       Wall        0  \n",
       "56090   185   187   188   186   184   185       Wall        0  \n",
       "56091   163   153   158   170   140   140       Wall        0  \n",
       "\n",
       "[56092 rows x 4098 columns]"
      ]
     },
     "execution_count": 4,
     "metadata": {},
     "output_type": "execute_result"
    }
   ],
   "source": [
    "concrete_dataset"
   ]
  },
  {
   "cell_type": "markdown",
   "metadata": {},
   "source": [
    "### Models for classification _(if applicable)_\n",
    "_(What models will you be using for classification? Why did you choose to use them? What questions would you answer with them? How would you evaluate if each model? What cross-validation method did you use?)_"
   ]
  },
  {
   "cell_type": "code",
   "execution_count": null,
   "metadata": {},
   "outputs": [],
   "source": [
    "# you may add some code here to show how the model works in principle"
   ]
  },
  {
   "cell_type": "markdown",
   "metadata": {},
   "source": [
    "### Other methods used _(if applicable)_\n",
    "\n",
    "_(If this is a preprocessing step to prepare your data for regression or classification models, you should put this subsection before your explanation for the regression or classification models.)_\n",
    "\n",
    "_(What method did you use otherwise? Why did you choose to use them? What questions would you answer with them? How would you evaluate the results? What cross-validation method did you use when applicable?)_"
   ]
  },
  {
   "cell_type": "code",
   "execution_count": null,
   "metadata": {},
   "outputs": [],
   "source": [
    "# you may add some code here to show how the method works in principle"
   ]
  },
  {
   "cell_type": "markdown",
   "metadata": {},
   "source": [
    "# you may add some code here to show how the model works in principle"
   ]
  },
  {
   "cell_type": "markdown",
   "metadata": {},
   "source": [
    "## Results"
   ]
  },
  {
   "cell_type": "markdown",
   "metadata": {},
   "source": [
    "_(What did you find when you carried out your methods? Some of your code related to\n",
    "presenting results/figures/data may be replicated from the methods section or may only be present in\n",
    "this section. All of the plots that you plan on using for your presentation should be present in this\n",
    "section)_"
   ]
  },
  {
   "cell_type": "markdown",
   "metadata": {},
   "source": [
    "### classification results\n",
    "_(What are you trying to do here?)_"
   ]
  },
  {
   "cell_type": "code",
   "execution_count": null,
   "metadata": {},
   "outputs": [],
   "source": [
    "# how did you do it"
   ]
  },
  {
   "cell_type": "markdown",
   "metadata": {},
   "source": [
    "_(How do you interpret what you see?)_\n",
    "\n",
    "_(What are you doing next?)_"
   ]
  },
  {
   "cell_type": "code",
   "execution_count": null,
   "metadata": {},
   "outputs": [],
   "source": [
    "# how did you do it (etc. etc.)"
   ]
  },
  {
   "cell_type": "markdown",
   "metadata": {},
   "source": [
    "### other results\n",
    "_(What are you trying to do here?)_"
   ]
  },
  {
   "cell_type": "code",
   "execution_count": null,
   "metadata": {},
   "outputs": [],
   "source": [
    "# how did you do it"
   ]
  },
  {
   "cell_type": "markdown",
   "metadata": {},
   "source": [
    "_(How do you interpret what you see?)_\n",
    "\n",
    "_(What are you doing next?)_"
   ]
  },
  {
   "cell_type": "code",
   "execution_count": null,
   "metadata": {},
   "outputs": [],
   "source": [
    "# how did you do it (etc. etc.)"
   ]
  },
  {
   "cell_type": "markdown",
   "metadata": {},
   "source": [
    "## Discussion and Conclusion"
   ]
  },
  {
   "cell_type": "markdown",
   "metadata": {},
   "source": [
    "_(What did you learn from your results? What obstacles did you run into? What would you do differently next time? Clearly provide quantitative answers to your question(s)?  At least one of your questions should be answered with numbers.  That is, it is not sufficient to answer \"yes\" or \"no\", but rather to say something quantitative such as variable 1 increased roughly 10% for every 1 year increase in variable 2.)_"
   ]
  },
  {
   "cell_type": "markdown",
   "metadata": {},
   "source": [
    "### discussion on the regression results"
   ]
  },
  {
   "cell_type": "markdown",
   "metadata": {},
   "source": [
    "### discussion on the other results"
   ]
  },
  {
   "cell_type": "markdown",
   "metadata": {},
   "source": [
    "### conclusion and future steps"
   ]
  },
  {
   "cell_type": "markdown",
   "metadata": {},
   "source": [
    "## Author contribution\n",
    "\n",
    "_(Please describe the contribution of each member of group)._"
   ]
  },
  {
   "cell_type": "markdown",
   "metadata": {},
   "source": [
    "## References"
   ]
  },
  {
   "cell_type": "markdown",
   "metadata": {},
   "source": [
    "_(List the source(s) for any data and/or literature cited in your project.  Ideally, this should be formatted using a formal citation format (MLA or APA or other, your choice!).   Multiple free online citation generators are available such as <a href=\"http://www.easybib.com/style\">http://www.easybib.com/style</a>. **Important:** if you use **any** code that you find on the internet for your project you **must** cite it or you risk losing most/all of the points for you project.)_"
   ]
  }
 ],
 "metadata": {
  "kernelspec": {
   "display_name": "Python 3 (ipykernel)",
   "language": "python",
   "name": "python3"
  },
  "language_info": {
   "codemirror_mode": {
    "name": "ipython",
    "version": 3
   },
   "file_extension": ".py",
   "mimetype": "text/x-python",
   "name": "python",
   "nbconvert_exporter": "python",
   "pygments_lexer": "ipython3",
   "version": "3.11.11"
  }
 },
 "nbformat": 4,
 "nbformat_minor": 4
}
